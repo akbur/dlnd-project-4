{
 "cells": [
  {
   "cell_type": "markdown",
   "metadata": {
    "collapsed": true
   },
   "source": [
    "# Language Translation\n",
    "In this project, you’re going to take a peek into the realm of neural network machine translation.  You’ll be training a sequence to sequence model on a dataset of English and French sentences that can translate new sentences from English to French.\n",
    "## Get the Data\n",
    "Since translating the whole language of English to French will take lots of time to train, we have provided you with a small portion of the English corpus."
   ]
  },
  {
   "cell_type": "code",
   "execution_count": 35,
   "metadata": {
    "collapsed": true
   },
   "outputs": [],
   "source": [
    "\"\"\"\n",
    "DON'T MODIFY ANYTHING IN THIS CELL\n",
    "\"\"\"\n",
    "import helper\n",
    "import problem_unittests as tests\n",
    "\n",
    "source_path = 'data/small_vocab_en'\n",
    "target_path = 'data/small_vocab_fr'\n",
    "source_text = helper.load_data(source_path)\n",
    "target_text = helper.load_data(target_path)"
   ]
  },
  {
   "cell_type": "markdown",
   "metadata": {},
   "source": [
    "## Explore the Data\n",
    "Play around with view_sentence_range to view different parts of the data."
   ]
  },
  {
   "cell_type": "code",
   "execution_count": 36,
   "metadata": {},
   "outputs": [
    {
     "name": "stdout",
     "output_type": "stream",
     "text": [
      "Dataset Stats\n",
      "Roughly the number of unique words: 227\n",
      "Number of sentences: 137861\n",
      "Average number of words in a sentence: 13.225277634719028\n",
      "\n",
      "English sentences 10040 to 10060:\n",
      "india is never mild during november , but it is cold in december .\n",
      "the strawberry is his least liked fruit , but the peach is our least liked .\n",
      "the lime is my most loved fruit , but the grape is our most loved .\n",
      "new jersey is never wonderful during december , but it is never nice in september .\n",
      "she likes grapes , grapefruit , and strawberries.\n",
      "india is wet during march , and it is freezing in september .\n",
      "france is nice during may , but it is sometimes wet in march .\n",
      "india is sometimes wet during december , but it is cold in january .\n",
      "the lemon is our most loved fruit , but the lime is their most loved .\n",
      "india is warm during october , and it is dry in fall .\n",
      "the grapefruit is your least favorite fruit , but the grape is their least favorite .\n",
      "the orange is their favorite fruit , but the apple is his favorite .\n",
      "india is relaxing during november , and it is usually dry in fall .\n",
      "new jersey is sometimes dry during autumn , but it is rainy in winter .\n",
      "the united states is cold during november , but it is sometimes relaxing in spring .\n",
      "china is warm during july , and it is never wonderful in spring .\n",
      "new jersey is sometimes hot during winter , and it is never cold in december .\n",
      "new jersey is never wet during august , but it is wonderful in winter .\n",
      "he likes oranges , mangoes , and grapes .\n",
      "the united states is usually mild during autumn , but it is never quiet in june .\n",
      "\n",
      "French sentences 10040 to 10060:\n",
      "l' inde est jamais doux en novembre , mais il est froid en décembre .\n",
      "la fraise est son fruit moins aimé , mais la pêche est notre moins aimé.\n",
      "la chaux est mon fruit le plus cher , mais le raisin est notre plus aimé.\n",
      "new jersey est jamais merveilleux en décembre , mais il est jamais agréable en septembre .\n",
      "elle aime le raisin , le pamplemousse et les fraises .\n",
      "l' inde est humide en mars , et il gèle en septembre .\n",
      "la france est belle au mois de mai , mais il est parfois humide en mars .\n",
      "l' inde est parfois humide en décembre , mais il est froid en janvier .\n",
      "le citron est notre fruit le plus aimé , mais la chaux est leur plus aimé.\n",
      "l' inde est chaud en octobre , et il est sec à l' automne .\n",
      "le pamplemousse est votre fruit préféré moins , mais le raisin est leur moins préféré .\n",
      "l'orange est leur fruit préféré , mais la pomme est son favori .\n",
      "l' inde est relaxant au mois de novembre , et il est généralement sec à l' automne .\n",
      "new jersey est parfois sec pendant l' automne , mais il est pluvieux en hiver .\n",
      "les états-unis est froid au mois de novembre , mais il est relaxant parfois au printemps .\n",
      "chine est chaud en juillet , et il est jamais merveilleux au printemps .\n",
      "new jersey est parfois chaud pendant l' hiver , et il ne fait jamais froid en décembre .\n",
      "new jersey est jamais humide au mois d' août , mais il est merveilleux en hiver .\n",
      "il aime les oranges , les mangues et les raisins .\n",
      "les états-unis est généralement doux à l'automne , mais il est jamais tranquille en juin .\n"
     ]
    }
   ],
   "source": [
    "view_sentence_range = (10040, 10060)\n",
    "\n",
    "\"\"\"\n",
    "DON'T MODIFY ANYTHING IN THIS CELL\n",
    "\"\"\"\n",
    "import numpy as np\n",
    "\n",
    "print('Dataset Stats')\n",
    "print('Roughly the number of unique words: {}'.format(len({word: None for word in source_text.split()})))\n",
    "\n",
    "sentences = source_text.split('\\n')\n",
    "word_counts = [len(sentence.split()) for sentence in sentences]\n",
    "print('Number of sentences: {}'.format(len(sentences)))\n",
    "print('Average number of words in a sentence: {}'.format(np.average(word_counts)))\n",
    "\n",
    "print()\n",
    "print('English sentences {} to {}:'.format(*view_sentence_range))\n",
    "print('\\n'.join(source_text.split('\\n')[view_sentence_range[0]:view_sentence_range[1]]))\n",
    "print()\n",
    "print('French sentences {} to {}:'.format(*view_sentence_range))\n",
    "print('\\n'.join(target_text.split('\\n')[view_sentence_range[0]:view_sentence_range[1]]))"
   ]
  },
  {
   "cell_type": "markdown",
   "metadata": {},
   "source": [
    "## Implement Preprocessing Function\n",
    "### Text to Word Ids\n",
    "As you did with other RNNs, you must turn the text into a number so the computer can understand it. In the function `text_to_ids()`, you'll turn `source_text` and `target_text` from words to ids.  However, you need to add the `<EOS>` word id at the end of `target_text`.  This will help the neural network predict when the sentence should end.\n",
    "\n",
    "You can get the `<EOS>` word id by doing:\n",
    "```python\n",
    "target_vocab_to_int['<EOS>']\n",
    "```\n",
    "You can get other word ids using `source_vocab_to_int` and `target_vocab_to_int`."
   ]
  },
  {
   "cell_type": "code",
   "execution_count": 37,
   "metadata": {},
   "outputs": [
    {
     "name": "stdout",
     "output_type": "stream",
     "text": [
      "Tests Passed\n"
     ]
    }
   ],
   "source": [
    "def text_to_ids(source_text, target_text, source_vocab_to_int, target_vocab_to_int):\n",
    "    \"\"\"\n",
    "    Convert source and target text to proper word ids\n",
    "    :param source_text: String that contains all the source text.\n",
    "    :param target_text: String that contains all the target text.\n",
    "    :param source_vocab_to_int: Dictionary to go from the source words to an id\n",
    "    :param target_vocab_to_int: Dictionary to go from the target words to an id\n",
    "    :return: A tuple of lists (source_id_text, target_id_text)\n",
    "    \"\"\"\n",
    "    source_id_text = []\n",
    "    \n",
    "    for line in source_text.split('\\n'):\n",
    "        encoded_line = []\n",
    "        for word in line.split():\n",
    "            encoded_line.append(source_vocab_to_int[word])\n",
    "        source_id_text.append(encoded_line)\n",
    "        \n",
    "    \n",
    "    target_text_mod = []\n",
    "    target_id_text = []\n",
    "\n",
    "    for line in target_text.split('\\n'):\n",
    "        target_text_mod.append(line + ' <EOS>')\n",
    "    \n",
    "    for line in target_text_mod:\n",
    "        encoded_line = []\n",
    "        for word in line.split():\n",
    "            encoded_line.append(target_vocab_to_int[word])\n",
    "        target_id_text.append(encoded_line)\n",
    "        \n",
    "    return source_id_text, target_id_text\n",
    "\n",
    "\"\"\"\n",
    "DON'T MODIFY ANYTHING IN THIS CELL THAT IS BELOW THIS LINE\n",
    "\"\"\"\n",
    "tests.test_text_to_ids(text_to_ids)"
   ]
  },
  {
   "cell_type": "code",
   "execution_count": null,
   "metadata": {
    "collapsed": true
   },
   "outputs": [],
   "source": []
  },
  {
   "cell_type": "markdown",
   "metadata": {},
   "source": [
    "### Preprocess all the data and save it\n",
    "Running the code cell below will preprocess all the data and save it to file."
   ]
  },
  {
   "cell_type": "code",
   "execution_count": 38,
   "metadata": {
    "collapsed": true
   },
   "outputs": [],
   "source": [
    "\"\"\"\n",
    "DON'T MODIFY ANYTHING IN THIS CELL\n",
    "\"\"\"\n",
    "helper.preprocess_and_save_data(source_path, target_path, text_to_ids)"
   ]
  },
  {
   "cell_type": "markdown",
   "metadata": {},
   "source": [
    "# Check Point\n",
    "This is your first checkpoint. If you ever decide to come back to this notebook or have to restart the notebook, you can start from here. The preprocessed data has been saved to disk."
   ]
  },
  {
   "cell_type": "code",
   "execution_count": 39,
   "metadata": {
    "collapsed": true
   },
   "outputs": [],
   "source": [
    "\"\"\"\n",
    "DON'T MODIFY ANYTHING IN THIS CELL\n",
    "\"\"\"\n",
    "import numpy as np\n",
    "import helper\n",
    "import problem_unittests as tests\n",
    "\n",
    "(source_int_text, target_int_text), (source_vocab_to_int, target_vocab_to_int), _ = helper.load_preprocess()"
   ]
  },
  {
   "cell_type": "markdown",
   "metadata": {},
   "source": [
    "### Check the Version of TensorFlow and Access to GPU\n",
    "This will check to make sure you have the correct version of TensorFlow and access to a GPU"
   ]
  },
  {
   "cell_type": "code",
   "execution_count": 40,
   "metadata": {},
   "outputs": [
    {
     "name": "stdout",
     "output_type": "stream",
     "text": [
      "TensorFlow Version: 1.1.0\n",
      "Default GPU Device: /gpu:0\n"
     ]
    }
   ],
   "source": [
    "\"\"\"\n",
    "DON'T MODIFY ANYTHING IN THIS CELL\n",
    "\"\"\"\n",
    "from distutils.version import LooseVersion\n",
    "import warnings\n",
    "import tensorflow as tf\n",
    "from tensorflow.python.layers.core import Dense\n",
    "\n",
    "# Check TensorFlow Version\n",
    "assert LooseVersion(tf.__version__) >= LooseVersion('1.1'), 'Please use TensorFlow version 1.1 or newer'\n",
    "print('TensorFlow Version: {}'.format(tf.__version__))\n",
    "\n",
    "# Check for a GPU\n",
    "if not tf.test.gpu_device_name():\n",
    "    warnings.warn('No GPU found. Please use a GPU to train your neural network.')\n",
    "else:\n",
    "    print('Default GPU Device: {}'.format(tf.test.gpu_device_name()))"
   ]
  },
  {
   "cell_type": "markdown",
   "metadata": {},
   "source": [
    "## Build the Neural Network\n",
    "You'll build the components necessary to build a Sequence-to-Sequence model by implementing the following functions below:\n",
    "- `model_inputs`\n",
    "- `process_decoder_input`\n",
    "- `encoding_layer`\n",
    "- `decoding_layer_train`\n",
    "- `decoding_layer_infer`\n",
    "- `decoding_layer`\n",
    "- `seq2seq_model`\n",
    "\n",
    "### Input\n",
    "Implement the `model_inputs()` function to create TF Placeholders for the Neural Network. It should create the following placeholders:\n",
    "\n",
    "- Input text placeholder named \"input\" using the TF Placeholder name parameter with rank 2.\n",
    "- Targets placeholder with rank 2.\n",
    "- Learning rate placeholder with rank 0.\n",
    "- Keep probability placeholder named \"keep_prob\" using the TF Placeholder name parameter with rank 0.\n",
    "- Target sequence length placeholder named \"target_sequence_length\" with rank 1\n",
    "- Max target sequence length tensor named \"max_target_len\" getting its value from applying tf.reduce_max on the target_sequence_length placeholder. Rank 0.\n",
    "- Source sequence length placeholder named \"source_sequence_length\" with rank 1\n",
    "\n",
    "Return the placeholders in the following the tuple (input, targets, learning rate, keep probability, target sequence length, max target sequence length, source sequence length)"
   ]
  },
  {
   "cell_type": "code",
   "execution_count": 41,
   "metadata": {},
   "outputs": [
    {
     "name": "stdout",
     "output_type": "stream",
     "text": [
      "Tests Passed\n"
     ]
    }
   ],
   "source": [
    "def model_inputs():\n",
    "    \"\"\"\n",
    "    Create TF Placeholders for input, targets, learning rate, and lengths of source and target sequences.\n",
    "    :return: Tuple (input, targets, learning rate, keep probability, target sequence length,\n",
    "    max target sequence length, source sequence length)\n",
    "    \"\"\"\n",
    "    input_data = tf.placeholder(tf.int32, [None, None], name='input')\n",
    "    targets = tf.placeholder(tf.int32, [None, None], name='targets')\n",
    "    learning_rate = tf.placeholder(tf.float32, name='learning_rate')\n",
    "    keep_prob = tf.placeholder(tf.float32, name='keep_prob')\n",
    "    target_sequence_length = tf.placeholder(tf.int32, (None,), name='target_sequence_length')\n",
    "    max_target_len = tf.reduce_max(target_sequence_length, name='max_target_len')\n",
    "    source_sequence_length = tf.placeholder(tf.int32, (None,), name='source_sequence_length')\n",
    "\n",
    "    return input_data, targets, learning_rate, keep_prob, target_sequence_length, max_target_len, source_sequence_length\n",
    "\n",
    "\n",
    "\"\"\"\n",
    "DON'T MODIFY ANYTHING IN THIS CELL THAT IS BELOW THIS LINE\n",
    "\"\"\"\n",
    "tests.test_model_inputs(model_inputs)"
   ]
  },
  {
   "cell_type": "markdown",
   "metadata": {},
   "source": [
    "### Process Decoder Input\n",
    "Implement `process_decoder_input` by removing the last word id from each batch in `target_data` and concat the GO ID to the begining of each batch."
   ]
  },
  {
   "cell_type": "code",
   "execution_count": 42,
   "metadata": {},
   "outputs": [
    {
     "name": "stdout",
     "output_type": "stream",
     "text": [
      "Tests Passed\n"
     ]
    }
   ],
   "source": [
    "def process_decoder_input(target_data, target_vocab_to_int, batch_size):\n",
    "    \"\"\"\n",
    "    Preprocess target data for encoding\n",
    "    :param target_data: Target Placehoder\n",
    "    :param target_vocab_to_int: Dictionary to go from the target words to an id\n",
    "    :param batch_size: Batch Size\n",
    "    :return: Preprocessed target data\n",
    "    \"\"\"\n",
    "    remove_end = tf.strided_slice(target_data, [0, 0], [batch_size, -1], [1, 1])\n",
    "    decode_input = tf.concat([tf.fill([batch_size, 1], target_vocab_to_int['<GO>']), remove_end], 1)\n",
    "    return decode_input\n",
    "\n",
    "\"\"\"\n",
    "DON'T MODIFY ANYTHING IN THIS CELL THAT IS BELOW THIS LINE\n",
    "\"\"\"\n",
    "tests.test_process_encoding_input(process_decoder_input)"
   ]
  },
  {
   "cell_type": "markdown",
   "metadata": {},
   "source": [
    "### Encoding\n",
    "Implement `encoding_layer()` to create a Encoder RNN layer:\n",
    " * Embed the encoder input using [`tf.contrib.layers.embed_sequence`](https://www.tensorflow.org/api_docs/python/tf/contrib/layers/embed_sequence)\n",
    " * Construct a [stacked](https://github.com/tensorflow/tensorflow/blob/6947f65a374ebf29e74bb71e36fd82760056d82c/tensorflow/docs_src/tutorials/recurrent.md#stacking-multiple-lstms) [`tf.contrib.rnn.LSTMCell`](https://www.tensorflow.org/api_docs/python/tf/contrib/rnn/LSTMCell) wrapped in a [`tf.contrib.rnn.DropoutWrapper`](https://www.tensorflow.org/api_docs/python/tf/contrib/rnn/DropoutWrapper)\n",
    " * Pass cell and embedded input to [`tf.nn.dynamic_rnn()`](https://www.tensorflow.org/api_docs/python/tf/nn/dynamic_rnn)"
   ]
  },
  {
   "cell_type": "code",
   "execution_count": 43,
   "metadata": {
    "scrolled": false
   },
   "outputs": [
    {
     "name": "stdout",
     "output_type": "stream",
     "text": [
      "Tests Passed\n"
     ]
    }
   ],
   "source": [
    "from imp import reload\n",
    "reload(tests)\n",
    "\n",
    "def encoding_layer(rnn_inputs, rnn_size, num_layers, keep_prob, \n",
    "                   source_sequence_length, source_vocab_size, \n",
    "                   encoding_embedding_size):\n",
    "    \"\"\"\n",
    "    Create encoding layer\n",
    "    :param rnn_inputs: Inputs for the RNN\n",
    "    :param rnn_size: RNN Size\n",
    "    :param num_layers: Number of layers\n",
    "    :param keep_prob: Dropout keep probability\n",
    "    :param source_sequence_length: a list of the lengths of each sequence in the batch\n",
    "    :param source_vocab_size: vocabulary size of source data\n",
    "    :param encoding_embedding_size: embedding size of source data\n",
    "    :return: tuple (RNN output, RNN state)\n",
    "    \"\"\"\n",
    "    def create_cell(rnn_size):\n",
    "        lstm = tf.contrib.rnn.LSTMCell(rnn_size)\n",
    "        return tf.contrib.rnn.DropoutWrapper(lstm, keep_prob)\n",
    "    \n",
    "    enc_embed = tf.contrib.layers.embed_sequence(rnn_inputs, source_vocab_size, encoding_embedding_size)\n",
    "    \n",
    "    stacked_enc_cell = tf.contrib.rnn.MultiRNNCell(\n",
    "                        [create_cell(rnn_size) for _ in range(num_layers)])\n",
    "    enc_output, enc_state = tf.nn.dynamic_rnn(stacked_enc_cell, enc_embed, \n",
    "                                              sequence_length=source_sequence_length, dtype=tf.float32)\n",
    "    return enc_output, enc_state\n",
    "\n",
    "\"\"\"\n",
    "DON'T MODIFY ANYTHING IN THIS CELL THAT IS BELOW THIS LINE\n",
    "\"\"\"\n",
    "tests.test_encoding_layer(encoding_layer)"
   ]
  },
  {
   "cell_type": "markdown",
   "metadata": {},
   "source": [
    "### Decoding - Training\n",
    "Create a training decoding layer:\n",
    "* Create a [`tf.contrib.seq2seq.TrainingHelper`](https://www.tensorflow.org/api_docs/python/tf/contrib/seq2seq/TrainingHelper) \n",
    "* Create a [`tf.contrib.seq2seq.BasicDecoder`](https://www.tensorflow.org/api_docs/python/tf/contrib/seq2seq/BasicDecoder)\n",
    "* Obtain the decoder outputs from [`tf.contrib.seq2seq.dynamic_decode`](https://www.tensorflow.org/api_docs/python/tf/contrib/seq2seq/dynamic_decode)"
   ]
  },
  {
   "cell_type": "code",
   "execution_count": 44,
   "metadata": {},
   "outputs": [
    {
     "name": "stdout",
     "output_type": "stream",
     "text": [
      "Tests Passed\n"
     ]
    }
   ],
   "source": [
    "\n",
    "def decoding_layer_train(encoder_state, dec_cell, dec_embed_input, \n",
    "                         target_sequence_length, max_summary_length, \n",
    "                         output_layer, keep_prob):\n",
    "    \"\"\"\n",
    "    Create a decoding layer for training\n",
    "    :param encoder_state: Encoder State\n",
    "    :param dec_cell: Decoder RNN Cell\n",
    "    :param dec_embed_input: Decoder embedded input\n",
    "    :param target_sequence_length: The lengths of each sequence in the target batch\n",
    "    :param max_summary_length: The length of the longest sequence in the batch\n",
    "    :param output_layer: Function to apply the output layer\n",
    "    :param keep_prob: Dropout keep probability\n",
    "    :return: BasicDecoderOutput containing training logits and sample_id\n",
    "    \"\"\"\n",
    "    training_helper = tf.contrib.seq2seq.TrainingHelper(inputs=dec_embed_input, sequence_length=target_sequence_length)\n",
    "    training_decoder = tf.contrib.seq2seq.BasicDecoder(dec_cell, training_helper, encoder_state, output_layer)\n",
    "    output = tf.contrib.seq2seq.dynamic_decode(training_decoder, impute_finished=True, maximum_iterations=max_summary_length)[0]\n",
    "    return output\n",
    "\n",
    "\n",
    "\n",
    "\"\"\"\n",
    "DON'T MODIFY ANYTHING IN THIS CELL THAT IS BELOW THIS LINE\n",
    "\"\"\"\n",
    "tests.test_decoding_layer_train(decoding_layer_train)"
   ]
  },
  {
   "cell_type": "markdown",
   "metadata": {},
   "source": [
    "### Decoding - Inference\n",
    "Create inference decoder:\n",
    "* Create a [`tf.contrib.seq2seq.GreedyEmbeddingHelper`](https://www.tensorflow.org/api_docs/python/tf/contrib/seq2seq/GreedyEmbeddingHelper)\n",
    "* Create a [`tf.contrib.seq2seq.BasicDecoder`](https://www.tensorflow.org/api_docs/python/tf/contrib/seq2seq/BasicDecoder)\n",
    "* Obtain the decoder outputs from [`tf.contrib.seq2seq.dynamic_decode`](https://www.tensorflow.org/api_docs/python/tf/contrib/seq2seq/dynamic_decode)"
   ]
  },
  {
   "cell_type": "code",
   "execution_count": 45,
   "metadata": {
    "scrolled": true
   },
   "outputs": [
    {
     "name": "stdout",
     "output_type": "stream",
     "text": [
      "Tests Passed\n"
     ]
    }
   ],
   "source": [
    "def decoding_layer_infer(encoder_state, dec_cell, dec_embeddings, start_of_sequence_id,\n",
    "                         end_of_sequence_id, max_target_sequence_length,\n",
    "                         vocab_size, output_layer, batch_size, keep_prob):\n",
    "    \"\"\"\n",
    "    Create a decoding layer for inference\n",
    "    :param encoder_state: Encoder state\n",
    "    :param dec_cell: Decoder RNN Cell\n",
    "    :param dec_embeddings: Decoder embeddings\n",
    "    :param start_of_sequence_id: GO ID\n",
    "    :param end_of_sequence_id: EOS Id\n",
    "    :param max_target_sequence_length: Maximum length of target sequences\n",
    "    :param vocab_size: Size of decoder/target vocabulary\n",
    "    :param decoding_scope: TenorFlow Variable Scope for decoding\n",
    "    :param output_layer: Function to apply the output layer\n",
    "    :param batch_size: Batch size\n",
    "    :param keep_prob: Dropout keep probability\n",
    "    :return: BasicDecoderOutput containing inference logits and sample_id\n",
    "    \"\"\"\n",
    "    start_tokens = tf.tile(tf.constant([start_of_sequence_id], dtype=tf.int32), [batch_size], name='start_tokens')\n",
    "\n",
    "    inf_helper = tf.contrib.seq2seq.GreedyEmbeddingHelper(dec_embeddings, start_tokens, end_of_sequence_id)\n",
    "\n",
    "    inf_decoder = tf.contrib.seq2seq.BasicDecoder(dec_cell, inf_helper, encoder_state, output_layer)\n",
    "\n",
    "    inf_decoder_output = tf.contrib.seq2seq.dynamic_decode(inf_decoder, impute_finished=True, \n",
    "                                                           maximum_iterations=max_target_sequence_length)[0]\n",
    "    return inf_decoder_output\n",
    "\n",
    "\n",
    "\n",
    "\"\"\"\n",
    "DON'T MODIFY ANYTHING IN THIS CELL THAT IS BELOW THIS LINE\n",
    "\"\"\"\n",
    "tests.test_decoding_layer_infer(decoding_layer_infer)"
   ]
  },
  {
   "cell_type": "markdown",
   "metadata": {},
   "source": [
    "### Build the Decoding Layer\n",
    "Implement `decoding_layer()` to create a Decoder RNN layer.\n",
    "\n",
    "* Embed the target sequences\n",
    "* Construct the decoder LSTM cell (just like you constructed the encoder cell above)\n",
    "* Create an output layer to map the outputs of the decoder to the elements of our vocabulary\n",
    "* Use the your `decoding_layer_train(encoder_state, dec_cell, dec_embed_input, target_sequence_length, max_target_sequence_length, output_layer, keep_prob)` function to get the training logits.\n",
    "* Use your `decoding_layer_infer(encoder_state, dec_cell, dec_embeddings, start_of_sequence_id, end_of_sequence_id, max_target_sequence_length, vocab_size, output_layer, batch_size, keep_prob)` function to get the inference logits.\n",
    "\n",
    "Note: You'll need to use [tf.variable_scope](https://www.tensorflow.org/api_docs/python/tf/variable_scope) to share variables between training and inference."
   ]
  },
  {
   "cell_type": "code",
   "execution_count": 46,
   "metadata": {},
   "outputs": [
    {
     "name": "stdout",
     "output_type": "stream",
     "text": [
      "Tests Passed\n"
     ]
    }
   ],
   "source": [
    "def decoding_layer(dec_input, encoder_state,\n",
    "                   target_sequence_length, max_target_sequence_length,\n",
    "                   rnn_size,\n",
    "                   num_layers, target_vocab_to_int, target_vocab_size,\n",
    "                   batch_size, keep_prob, decoding_embedding_size):\n",
    "    \"\"\"\n",
    "    Create decoding layer\n",
    "    :param dec_input: Decoder input\n",
    "    :param encoder_state: Encoder state\n",
    "    :param target_sequence_length: The lengths of each sequence in the target batch\n",
    "    :param max_target_sequence_length: Maximum length of target sequences\n",
    "    :param rnn_size: RNN Size\n",
    "    :param num_layers: Number of layers\n",
    "    :param target_vocab_to_int: Dictionary to go from the target words to an id\n",
    "    :param target_vocab_size: Size of target vocabulary\n",
    "    :param batch_size: The size of the batch\n",
    "    :param keep_prob: Dropout keep probability\n",
    "    :param decoding_embedding_size: Decoding embedding size\n",
    "    :return: Tuple of (Training BasicDecoderOutput, Inference BasicDecoderOutput)\n",
    "    \"\"\"\n",
    "    # Adapted the decoding layer fn in seq2seq project for this fn\n",
    "    dec_embeddings = tf.Variable(tf.random_uniform([target_vocab_size, decoding_embedding_size]))\n",
    "    dec_embed_input = tf.nn.embedding_lookup(dec_embeddings, dec_input)\n",
    "\n",
    "    def make_cell(rnn_size):\n",
    "        lstm = tf.contrib.rnn.LSTMCell(rnn_size)\n",
    "        return tf.contrib.rnn.DropoutWrapper(lstm, keep_prob)\n",
    "\n",
    "    dec_cell = tf.contrib.rnn.MultiRNNCell([make_cell(rnn_size) for _ in range(num_layers)])\n",
    "     \n",
    "    output_layer = Dense(target_vocab_size,\n",
    "                         kernel_initializer = tf.truncated_normal_initializer(mean = 0.0, stddev=0.1))\n",
    "\n",
    "    with tf.variable_scope(\"decode\"):\n",
    "        training_helper = tf.contrib.seq2seq.TrainingHelper(inputs=dec_embed_input,\n",
    "                                                            sequence_length=target_sequence_length,\n",
    "                                                            time_major=False)\n",
    "        \n",
    "        training_decoder = tf.contrib.seq2seq.BasicDecoder(dec_cell,\n",
    "                                                           training_helper,\n",
    "                                                           encoder_state,\n",
    "                                                           output_layer) \n",
    "        \n",
    "        training_decoder_output = tf.contrib.seq2seq.dynamic_decode(training_decoder,\n",
    "                                                                    impute_finished=True,\n",
    "                                                                    maximum_iterations=max_target_sequence_length)[0]\n",
    "    \n",
    "    with tf.variable_scope(\"decode\", reuse=True):\n",
    "        start_tokens = tf.tile(tf.constant([target_vocab_to_int['<GO>']], dtype=tf.int32), [batch_size], name='start_tokens')\n",
    "\n",
    "        inference_helper = tf.contrib.seq2seq.GreedyEmbeddingHelper(dec_embeddings,\n",
    "                                                                    start_tokens,\n",
    "                                                                    target_vocab_to_int['<EOS>'])\n",
    "\n",
    "        inference_decoder = tf.contrib.seq2seq.BasicDecoder(dec_cell,\n",
    "                                                            inference_helper,\n",
    "                                                            encoder_state,\n",
    "                                                            output_layer)\n",
    "        \n",
    "        inference_decoder_output = tf.contrib.seq2seq.dynamic_decode(inference_decoder,\n",
    "                                                                     impute_finished=True,\n",
    "                                                                     maximum_iterations=max_target_sequence_length)[0]\n",
    "         \n",
    "    \n",
    "    return training_decoder_output, inference_decoder_output\n",
    "\n",
    "     \n",
    "\n",
    "\"\"\"\n",
    "DON'T MODIFY ANYTHING IN THIS CELL THAT IS BELOW THIS LINE\n",
    "\"\"\"\n",
    "tests.test_decoding_layer(decoding_layer)"
   ]
  },
  {
   "cell_type": "markdown",
   "metadata": {},
   "source": [
    "### Build the Neural Network\n",
    "Apply the functions you implemented above to:\n",
    "\n",
    "- Encode the input using your `encoding_layer(rnn_inputs, rnn_size, num_layers, keep_prob,  source_sequence_length, source_vocab_size, encoding_embedding_size)`.\n",
    "- Process target data using your `process_decoder_input(target_data, target_vocab_to_int, batch_size)` function.\n",
    "- Decode the encoded input using your `decoding_layer(dec_input, enc_state, target_sequence_length, max_target_sentence_length, rnn_size, num_layers, target_vocab_to_int, target_vocab_size, batch_size, keep_prob, dec_embedding_size)` function."
   ]
  },
  {
   "cell_type": "code",
   "execution_count": 47,
   "metadata": {},
   "outputs": [
    {
     "name": "stdout",
     "output_type": "stream",
     "text": [
      "Tests Passed\n"
     ]
    }
   ],
   "source": [
    "def seq2seq_model(input_data, target_data, keep_prob, batch_size,\n",
    "                  source_sequence_length, target_sequence_length,\n",
    "                  max_target_sentence_length,\n",
    "                  source_vocab_size, target_vocab_size,\n",
    "                  enc_embedding_size, dec_embedding_size,\n",
    "                  rnn_size, num_layers, target_vocab_to_int):\n",
    "    \"\"\"\n",
    "    Build the Sequence-to-Sequence part of the neural network\n",
    "    :param input_data: Input placeholder\n",
    "    :param target_data: Target placeholder\n",
    "    :param keep_prob: Dropout keep probability placeholder\n",
    "    :param batch_size: Batch Size\n",
    "    :param source_sequence_length: Sequence Lengths of source sequences in the batch\n",
    "    :param target_sequence_length: Sequence Lengths of target sequences in the batch\n",
    "    :param source_vocab_size: Source vocabulary size\n",
    "    :param target_vocab_size: Target vocabulary size\n",
    "    :param enc_embedding_size: Decoder embedding size\n",
    "    :param dec_embedding_size: Encoder embedding size\n",
    "    :param rnn_size: RNN Size\n",
    "    :param num_layers: Number of layers\n",
    "    :param target_vocab_to_int: Dictionary to go from the target words to an id\n",
    "    :return: Tuple of (Training BasicDecoderOutput, Inference BasicDecoderOutput)\n",
    "    \"\"\"\n",
    "    enc_state = encoding_layer(input_data, rnn_size, num_layers, keep_prob, \n",
    "                               source_sequence_length, source_vocab_size, enc_embedding_size)[1]\n",
    "    \n",
    "    dec_input = process_decoder_input(target_data, target_vocab_to_int, batch_size)\n",
    "    \n",
    "    training_dec_output, inference_dec_output = decoding_layer(dec_input, enc_state, target_sequence_length, \n",
    "                                                               max_target_sentence_length, rnn_size, num_layers,\n",
    "                                                               target_vocab_to_int, target_vocab_size, batch_size,\n",
    "                                                               keep_prob, dec_embedding_size)\n",
    "    \n",
    "    return training_dec_output, inference_dec_output\n",
    "\n",
    "\n",
    "\"\"\"\n",
    "DON'T MODIFY ANYTHING IN THIS CELL THAT IS BELOW THIS LINE\n",
    "\"\"\"\n",
    "tests.test_seq2seq_model(seq2seq_model)"
   ]
  },
  {
   "cell_type": "markdown",
   "metadata": {},
   "source": [
    "## Neural Network Training\n",
    "### Hyperparameters\n",
    "Tune the following parameters:\n",
    "\n",
    "- Set `epochs` to the number of epochs.\n",
    "- Set `batch_size` to the batch size.\n",
    "- Set `rnn_size` to the size of the RNNs.\n",
    "- Set `num_layers` to the number of layers.\n",
    "- Set `encoding_embedding_size` to the size of the embedding for the encoder.\n",
    "- Set `decoding_embedding_size` to the size of the embedding for the decoder.\n",
    "- Set `learning_rate` to the learning rate.\n",
    "- Set `keep_probability` to the Dropout keep probability\n",
    "- Set `display_step` to state how many steps between each debug output statement"
   ]
  },
  {
   "cell_type": "code",
   "execution_count": 48,
   "metadata": {
    "collapsed": true
   },
   "outputs": [],
   "source": [
    "# Number of Epochs\n",
    "epochs = 3\n",
    "# Batch Size\n",
    "batch_size = 256\n",
    "# RNN Size\n",
    "rnn_size = 256\n",
    "# Number of Layers\n",
    "num_layers = 2\n",
    "# Embedding Size\n",
    "encoding_embedding_size = 256\n",
    "decoding_embedding_size = 256\n",
    "# Learning Rate\n",
    "learning_rate = 0.001\n",
    "# Dropout Keep Probability\n",
    "keep_probability = .5\n",
    "display_step = 8"
   ]
  },
  {
   "cell_type": "markdown",
   "metadata": {},
   "source": [
    "### Build the Graph\n",
    "Build the graph using the neural network you implemented."
   ]
  },
  {
   "cell_type": "code",
   "execution_count": 49,
   "metadata": {
    "collapsed": true
   },
   "outputs": [],
   "source": [
    "\"\"\"\n",
    "DON'T MODIFY ANYTHING IN THIS CELL\n",
    "\"\"\"\n",
    "save_path = 'checkpoints/dev'\n",
    "(source_int_text, target_int_text), (source_vocab_to_int, target_vocab_to_int), _ = helper.load_preprocess()\n",
    "max_target_sentence_length = max([len(sentence) for sentence in source_int_text])\n",
    "\n",
    "train_graph = tf.Graph()\n",
    "with train_graph.as_default():\n",
    "    input_data, targets, lr, keep_prob, target_sequence_length, max_target_sequence_length, source_sequence_length = model_inputs()\n",
    "\n",
    "    #sequence_length = tf.placeholder_with_default(max_target_sentence_length, None, name='sequence_length')\n",
    "    input_shape = tf.shape(input_data)\n",
    "\n",
    "    train_logits, inference_logits = seq2seq_model(tf.reverse(input_data, [-1]),\n",
    "                                                   targets,\n",
    "                                                   keep_prob,\n",
    "                                                   batch_size,\n",
    "                                                   source_sequence_length,\n",
    "                                                   target_sequence_length,\n",
    "                                                   max_target_sequence_length,\n",
    "                                                   len(source_vocab_to_int),\n",
    "                                                   len(target_vocab_to_int),\n",
    "                                                   encoding_embedding_size,\n",
    "                                                   decoding_embedding_size,\n",
    "                                                   rnn_size,\n",
    "                                                   num_layers,\n",
    "                                                   target_vocab_to_int)\n",
    "\n",
    "\n",
    "    training_logits = tf.identity(train_logits.rnn_output, name='logits')\n",
    "    inference_logits = tf.identity(inference_logits.sample_id, name='predictions')\n",
    "\n",
    "    masks = tf.sequence_mask(target_sequence_length, max_target_sequence_length, dtype=tf.float32, name='masks')\n",
    "\n",
    "    with tf.name_scope(\"optimization\"):\n",
    "        # Loss function\n",
    "        cost = tf.contrib.seq2seq.sequence_loss(\n",
    "            training_logits,\n",
    "            targets,\n",
    "            masks)\n",
    "\n",
    "        # Optimizer\n",
    "        optimizer = tf.train.AdamOptimizer(lr)\n",
    "\n",
    "        # Gradient Clipping\n",
    "        gradients = optimizer.compute_gradients(cost)\n",
    "        capped_gradients = [(tf.clip_by_value(grad, -1., 1.), var) for grad, var in gradients if grad is not None]\n",
    "        train_op = optimizer.apply_gradients(capped_gradients)\n"
   ]
  },
  {
   "cell_type": "markdown",
   "metadata": {},
   "source": [
    "Batch and pad the source and target sequences"
   ]
  },
  {
   "cell_type": "code",
   "execution_count": 50,
   "metadata": {
    "collapsed": true
   },
   "outputs": [],
   "source": [
    "\"\"\"\n",
    "DON'T MODIFY ANYTHING IN THIS CELL\n",
    "\"\"\"\n",
    "def pad_sentence_batch(sentence_batch, pad_int):\n",
    "    \"\"\"Pad sentences with <PAD> so that each sentence of a batch has the same length\"\"\"\n",
    "    max_sentence = max([len(sentence) for sentence in sentence_batch])\n",
    "    return [sentence + [pad_int] * (max_sentence - len(sentence)) for sentence in sentence_batch]\n",
    "\n",
    "\n",
    "def get_batches(sources, targets, batch_size, source_pad_int, target_pad_int):\n",
    "    \"\"\"Batch targets, sources, and the lengths of their sentences together\"\"\"\n",
    "    for batch_i in range(0, len(sources)//batch_size):\n",
    "        start_i = batch_i * batch_size\n",
    "\n",
    "        # Slice the right amount for the batch\n",
    "        sources_batch = sources[start_i:start_i + batch_size]\n",
    "        targets_batch = targets[start_i:start_i + batch_size]\n",
    "\n",
    "        # Pad\n",
    "        pad_sources_batch = np.array(pad_sentence_batch(sources_batch, source_pad_int))\n",
    "        pad_targets_batch = np.array(pad_sentence_batch(targets_batch, target_pad_int))\n",
    "\n",
    "        # Need the lengths for the _lengths parameters\n",
    "        pad_targets_lengths = []\n",
    "        for target in pad_targets_batch:\n",
    "            pad_targets_lengths.append(len(target))\n",
    "\n",
    "        pad_source_lengths = []\n",
    "        for source in pad_sources_batch:\n",
    "            pad_source_lengths.append(len(source))\n",
    "\n",
    "        yield pad_sources_batch, pad_targets_batch, pad_source_lengths, pad_targets_lengths\n"
   ]
  },
  {
   "cell_type": "markdown",
   "metadata": {},
   "source": [
    "### Train\n",
    "Train the neural network on the preprocessed data. If you have a hard time getting a good loss, check the forms to see if anyone is having the same problem."
   ]
  },
  {
   "cell_type": "code",
   "execution_count": 51,
   "metadata": {
    "scrolled": true
   },
   "outputs": [
    {
     "name": "stdout",
     "output_type": "stream",
     "text": [
      "Epoch   0 Batch    8/538 - Train Accuracy: 0.2959, Validation Accuracy: 0.3624, Loss: 3.7394\n",
      "Epoch   0 Batch   16/538 - Train Accuracy: 0.3597, Validation Accuracy: 0.4018, Loss: 2.9790\n",
      "Epoch   0 Batch   24/538 - Train Accuracy: 0.4010, Validation Accuracy: 0.4521, Loss: 2.7669\n",
      "Epoch   0 Batch   32/538 - Train Accuracy: 0.4198, Validation Accuracy: 0.4703, Loss: 2.6053\n",
      "Epoch   0 Batch   40/538 - Train Accuracy: 0.4865, Validation Accuracy: 0.4821, Loss: 2.2644\n",
      "Epoch   0 Batch   48/538 - Train Accuracy: 0.4723, Validation Accuracy: 0.4933, Loss: 2.2571\n",
      "Epoch   0 Batch   56/538 - Train Accuracy: 0.4710, Validation Accuracy: 0.5009, Loss: 2.2342\n",
      "Epoch   0 Batch   64/538 - Train Accuracy: 0.4857, Validation Accuracy: 0.5124, Loss: 2.0813\n",
      "Epoch   0 Batch   72/538 - Train Accuracy: 0.4961, Validation Accuracy: 0.5165, Loss: 1.9668\n",
      "Epoch   0 Batch   80/538 - Train Accuracy: 0.4605, Validation Accuracy: 0.5154, Loss: 1.9581\n",
      "Epoch   0 Batch   88/538 - Train Accuracy: 0.4262, Validation Accuracy: 0.4700, Loss: 1.8216\n",
      "Epoch   0 Batch   96/538 - Train Accuracy: 0.4604, Validation Accuracy: 0.4854, Loss: 1.5924\n",
      "Epoch   0 Batch  104/538 - Train Accuracy: 0.4745, Validation Accuracy: 0.5091, Loss: 1.5925\n",
      "Epoch   0 Batch  112/538 - Train Accuracy: 0.4551, Validation Accuracy: 0.5032, Loss: 1.5604\n",
      "Epoch   0 Batch  120/538 - Train Accuracy: 0.4387, Validation Accuracy: 0.4854, Loss: 1.4595\n",
      "Epoch   0 Batch  128/538 - Train Accuracy: 0.4766, Validation Accuracy: 0.4977, Loss: 1.3742\n",
      "Epoch   0 Batch  136/538 - Train Accuracy: 0.4580, Validation Accuracy: 0.4893, Loss: 1.3528\n",
      "Epoch   0 Batch  144/538 - Train Accuracy: 0.4313, Validation Accuracy: 0.4725, Loss: 1.3517\n",
      "Epoch   0 Batch  152/538 - Train Accuracy: 0.4913, Validation Accuracy: 0.5089, Loss: 1.2431\n",
      "Epoch   0 Batch  160/538 - Train Accuracy: 0.4933, Validation Accuracy: 0.5185, Loss: 1.1896\n",
      "Epoch   0 Batch  168/538 - Train Accuracy: 0.4936, Validation Accuracy: 0.5261, Loss: 1.2243\n",
      "Epoch   0 Batch  176/538 - Train Accuracy: 0.5006, Validation Accuracy: 0.5511, Loss: 1.1881\n",
      "Epoch   0 Batch  184/538 - Train Accuracy: 0.5121, Validation Accuracy: 0.5442, Loss: 1.0702\n",
      "Epoch   0 Batch  192/538 - Train Accuracy: 0.5249, Validation Accuracy: 0.5487, Loss: 1.0562\n",
      "Epoch   0 Batch  200/538 - Train Accuracy: 0.5248, Validation Accuracy: 0.5460, Loss: 1.0467\n",
      "Epoch   0 Batch  208/538 - Train Accuracy: 0.5109, Validation Accuracy: 0.5531, Loss: 1.0291\n",
      "Epoch   0 Batch  216/538 - Train Accuracy: 0.5088, Validation Accuracy: 0.5472, Loss: 0.9864\n",
      "Epoch   0 Batch  224/538 - Train Accuracy: 0.4875, Validation Accuracy: 0.5430, Loss: 0.9872\n",
      "Epoch   0 Batch  232/538 - Train Accuracy: 0.5307, Validation Accuracy: 0.5597, Loss: 0.9149\n",
      "Epoch   0 Batch  240/538 - Train Accuracy: 0.5348, Validation Accuracy: 0.5611, Loss: 0.9287\n",
      "Epoch   0 Batch  248/538 - Train Accuracy: 0.5398, Validation Accuracy: 0.5584, Loss: 0.8836\n",
      "Epoch   0 Batch  256/538 - Train Accuracy: 0.5428, Validation Accuracy: 0.5586, Loss: 0.8786\n",
      "Epoch   0 Batch  264/538 - Train Accuracy: 0.5225, Validation Accuracy: 0.5625, Loss: 0.8450\n",
      "Epoch   0 Batch  272/538 - Train Accuracy: 0.5326, Validation Accuracy: 0.5634, Loss: 0.8864\n",
      "Epoch   0 Batch  280/538 - Train Accuracy: 0.5781, Validation Accuracy: 0.5652, Loss: 0.7870\n",
      "Epoch   0 Batch  288/538 - Train Accuracy: 0.5303, Validation Accuracy: 0.5650, Loss: 0.8182\n",
      "Epoch   0 Batch  296/538 - Train Accuracy: 0.5673, Validation Accuracy: 0.5762, Loss: 0.7624\n",
      "Epoch   0 Batch  304/538 - Train Accuracy: 0.5525, Validation Accuracy: 0.5806, Loss: 0.7839\n",
      "Epoch   0 Batch  312/538 - Train Accuracy: 0.6403, Validation Accuracy: 0.6003, Loss: 0.7019\n",
      "Epoch   0 Batch  320/538 - Train Accuracy: 0.5960, Validation Accuracy: 0.5900, Loss: 0.7431\n",
      "Epoch   0 Batch  328/538 - Train Accuracy: 0.6012, Validation Accuracy: 0.5854, Loss: 0.7049\n",
      "Epoch   0 Batch  336/538 - Train Accuracy: 0.6114, Validation Accuracy: 0.6096, Loss: 0.7163\n",
      "Epoch   0 Batch  344/538 - Train Accuracy: 0.5832, Validation Accuracy: 0.5975, Loss: 0.7247\n",
      "Epoch   0 Batch  352/538 - Train Accuracy: 0.6146, Validation Accuracy: 0.6115, Loss: 0.7160\n",
      "Epoch   0 Batch  360/538 - Train Accuracy: 0.6041, Validation Accuracy: 0.6099, Loss: 0.7182\n",
      "Epoch   0 Batch  368/538 - Train Accuracy: 0.6582, Validation Accuracy: 0.6071, Loss: 0.6248\n",
      "Epoch   0 Batch  376/538 - Train Accuracy: 0.5855, Validation Accuracy: 0.6044, Loss: 0.7066\n",
      "Epoch   0 Batch  384/538 - Train Accuracy: 0.6101, Validation Accuracy: 0.6060, Loss: 0.6636\n",
      "Epoch   0 Batch  392/538 - Train Accuracy: 0.6025, Validation Accuracy: 0.6143, Loss: 0.6603\n",
      "Epoch   0 Batch  400/538 - Train Accuracy: 0.5904, Validation Accuracy: 0.6193, Loss: 0.6620\n",
      "Epoch   0 Batch  408/538 - Train Accuracy: 0.5691, Validation Accuracy: 0.6216, Loss: 0.7132\n",
      "Epoch   0 Batch  416/538 - Train Accuracy: 0.6461, Validation Accuracy: 0.6211, Loss: 0.6396\n",
      "Epoch   0 Batch  424/538 - Train Accuracy: 0.6070, Validation Accuracy: 0.6300, Loss: 0.6505\n",
      "Epoch   0 Batch  432/538 - Train Accuracy: 0.6582, Validation Accuracy: 0.6262, Loss: 0.5970\n",
      "Epoch   0 Batch  440/538 - Train Accuracy: 0.6152, Validation Accuracy: 0.6387, Loss: 0.6712\n",
      "Epoch   0 Batch  448/538 - Train Accuracy: 0.6373, Validation Accuracy: 0.6374, Loss: 0.6010\n",
      "Epoch   0 Batch  456/538 - Train Accuracy: 0.6743, Validation Accuracy: 0.6284, Loss: 0.5576\n",
      "Epoch   0 Batch  464/538 - Train Accuracy: 0.6244, Validation Accuracy: 0.6408, Loss: 0.6366\n",
      "Epoch   0 Batch  472/538 - Train Accuracy: 0.6527, Validation Accuracy: 0.6390, Loss: 0.5953\n",
      "Epoch   0 Batch  480/538 - Train Accuracy: 0.6358, Validation Accuracy: 0.6227, Loss: 0.5935\n",
      "Epoch   0 Batch  488/538 - Train Accuracy: 0.6480, Validation Accuracy: 0.6422, Loss: 0.6039\n",
      "Epoch   0 Batch  496/538 - Train Accuracy: 0.6205, Validation Accuracy: 0.6463, Loss: 0.6035\n",
      "Epoch   0 Batch  504/538 - Train Accuracy: 0.6463, Validation Accuracy: 0.6488, Loss: 0.5831\n",
      "Epoch   0 Batch  512/538 - Train Accuracy: 0.6672, Validation Accuracy: 0.6502, Loss: 0.5670\n",
      "Epoch   0 Batch  520/538 - Train Accuracy: 0.6189, Validation Accuracy: 0.6484, Loss: 0.6001\n",
      "Epoch   0 Batch  528/538 - Train Accuracy: 0.6209, Validation Accuracy: 0.6557, Loss: 0.6113\n",
      "Epoch   0 Batch  536/538 - Train Accuracy: 0.6382, Validation Accuracy: 0.6536, Loss: 0.5773\n",
      "Epoch   1 Batch    8/538 - Train Accuracy: 0.6355, Validation Accuracy: 0.6534, Loss: 0.5660\n",
      "Epoch   1 Batch   16/538 - Train Accuracy: 0.6417, Validation Accuracy: 0.6515, Loss: 0.5447\n",
      "Epoch   1 Batch   24/538 - Train Accuracy: 0.6243, Validation Accuracy: 0.6589, Loss: 0.5601\n",
      "Epoch   1 Batch   32/538 - Train Accuracy: 0.6269, Validation Accuracy: 0.6562, Loss: 0.5371\n",
      "Epoch   1 Batch   40/538 - Train Accuracy: 0.6868, Validation Accuracy: 0.6614, Loss: 0.4957\n",
      "Epoch   1 Batch   48/538 - Train Accuracy: 0.6719, Validation Accuracy: 0.6616, Loss: 0.5116\n",
      "Epoch   1 Batch   56/538 - Train Accuracy: 0.6237, Validation Accuracy: 0.6555, Loss: 0.5337\n",
      "Epoch   1 Batch   64/538 - Train Accuracy: 0.6516, Validation Accuracy: 0.6738, Loss: 0.5163\n",
      "Epoch   1 Batch   72/538 - Train Accuracy: 0.6802, Validation Accuracy: 0.6607, Loss: 0.5405\n",
      "Epoch   1 Batch   80/538 - Train Accuracy: 0.6523, Validation Accuracy: 0.6715, Loss: 0.5516\n",
      "Epoch   1 Batch   88/538 - Train Accuracy: 0.6701, Validation Accuracy: 0.6619, Loss: 0.5299\n",
      "Epoch   1 Batch   96/538 - Train Accuracy: 0.6722, Validation Accuracy: 0.6653, Loss: 0.4969\n",
      "Epoch   1 Batch  104/538 - Train Accuracy: 0.6494, Validation Accuracy: 0.6658, Loss: 0.4976\n",
      "Epoch   1 Batch  112/538 - Train Accuracy: 0.6592, Validation Accuracy: 0.6744, Loss: 0.5331\n",
      "Epoch   1 Batch  120/538 - Train Accuracy: 0.6580, Validation Accuracy: 0.6756, Loss: 0.4963\n",
      "Epoch   1 Batch  128/538 - Train Accuracy: 0.6765, Validation Accuracy: 0.6712, Loss: 0.4972\n",
      "Epoch   1 Batch  136/538 - Train Accuracy: 0.6594, Validation Accuracy: 0.6752, Loss: 0.4907\n",
      "Epoch   1 Batch  144/538 - Train Accuracy: 0.6773, Validation Accuracy: 0.6873, Loss: 0.5153\n",
      "Epoch   1 Batch  152/538 - Train Accuracy: 0.6722, Validation Accuracy: 0.6634, Loss: 0.4749\n",
      "Epoch   1 Batch  160/538 - Train Accuracy: 0.6553, Validation Accuracy: 0.6806, Loss: 0.4784\n",
      "Epoch   1 Batch  168/538 - Train Accuracy: 0.6453, Validation Accuracy: 0.6607, Loss: 0.5282\n",
      "Epoch   1 Batch  176/538 - Train Accuracy: 0.6660, Validation Accuracy: 0.6939, Loss: 0.5084\n"
     ]
    },
    {
     "name": "stdout",
     "output_type": "stream",
     "text": [
      "Epoch   1 Batch  184/538 - Train Accuracy: 0.6734, Validation Accuracy: 0.6848, Loss: 0.4569\n",
      "Epoch   1 Batch  192/538 - Train Accuracy: 0.6741, Validation Accuracy: 0.6816, Loss: 0.4684\n",
      "Epoch   1 Batch  200/538 - Train Accuracy: 0.6924, Validation Accuracy: 0.6839, Loss: 0.4556\n",
      "Epoch   1 Batch  208/538 - Train Accuracy: 0.6855, Validation Accuracy: 0.6784, Loss: 0.4790\n",
      "Epoch   1 Batch  216/538 - Train Accuracy: 0.6934, Validation Accuracy: 0.6797, Loss: 0.4780\n",
      "Epoch   1 Batch  224/538 - Train Accuracy: 0.6801, Validation Accuracy: 0.6919, Loss: 0.4699\n",
      "Epoch   1 Batch  232/538 - Train Accuracy: 0.6857, Validation Accuracy: 0.6916, Loss: 0.4701\n",
      "Epoch   1 Batch  240/538 - Train Accuracy: 0.7146, Validation Accuracy: 0.6962, Loss: 0.4520\n",
      "Epoch   1 Batch  248/538 - Train Accuracy: 0.7047, Validation Accuracy: 0.6978, Loss: 0.4465\n",
      "Epoch   1 Batch  256/538 - Train Accuracy: 0.6766, Validation Accuracy: 0.6864, Loss: 0.4431\n",
      "Epoch   1 Batch  264/538 - Train Accuracy: 0.6742, Validation Accuracy: 0.6925, Loss: 0.4426\n",
      "Epoch   1 Batch  272/538 - Train Accuracy: 0.6820, Validation Accuracy: 0.6882, Loss: 0.4517\n",
      "Epoch   1 Batch  280/538 - Train Accuracy: 0.7334, Validation Accuracy: 0.7006, Loss: 0.4089\n",
      "Epoch   1 Batch  288/538 - Train Accuracy: 0.7057, Validation Accuracy: 0.7157, Loss: 0.4236\n",
      "Epoch   1 Batch  296/538 - Train Accuracy: 0.7303, Validation Accuracy: 0.7049, Loss: 0.4051\n",
      "Epoch   1 Batch  304/538 - Train Accuracy: 0.7191, Validation Accuracy: 0.6982, Loss: 0.4063\n",
      "Epoch   1 Batch  312/538 - Train Accuracy: 0.7367, Validation Accuracy: 0.7063, Loss: 0.3650\n",
      "Epoch   1 Batch  320/538 - Train Accuracy: 0.7338, Validation Accuracy: 0.7262, Loss: 0.3805\n",
      "Epoch   1 Batch  328/538 - Train Accuracy: 0.7357, Validation Accuracy: 0.7225, Loss: 0.3739\n",
      "Epoch   1 Batch  336/538 - Train Accuracy: 0.7496, Validation Accuracy: 0.7305, Loss: 0.3693\n",
      "Epoch   1 Batch  344/538 - Train Accuracy: 0.7287, Validation Accuracy: 0.7246, Loss: 0.3781\n",
      "Epoch   1 Batch  352/538 - Train Accuracy: 0.7442, Validation Accuracy: 0.7294, Loss: 0.3885\n",
      "Epoch   1 Batch  360/538 - Train Accuracy: 0.7133, Validation Accuracy: 0.7266, Loss: 0.3850\n",
      "Epoch   1 Batch  368/538 - Train Accuracy: 0.7757, Validation Accuracy: 0.7479, Loss: 0.3305\n",
      "Epoch   1 Batch  376/538 - Train Accuracy: 0.7377, Validation Accuracy: 0.7491, Loss: 0.3700\n",
      "Epoch   1 Batch  384/538 - Train Accuracy: 0.7690, Validation Accuracy: 0.7514, Loss: 0.3401\n",
      "Epoch   1 Batch  392/538 - Train Accuracy: 0.7697, Validation Accuracy: 0.7406, Loss: 0.3396\n",
      "Epoch   1 Batch  400/538 - Train Accuracy: 0.7721, Validation Accuracy: 0.7614, Loss: 0.3406\n",
      "Epoch   1 Batch  408/538 - Train Accuracy: 0.7561, Validation Accuracy: 0.7587, Loss: 0.3564\n",
      "Epoch   1 Batch  416/538 - Train Accuracy: 0.7855, Validation Accuracy: 0.7669, Loss: 0.3222\n",
      "Epoch   1 Batch  424/538 - Train Accuracy: 0.7558, Validation Accuracy: 0.7706, Loss: 0.3298\n",
      "Epoch   1 Batch  432/538 - Train Accuracy: 0.7900, Validation Accuracy: 0.7725, Loss: 0.3040\n",
      "Epoch   1 Batch  440/538 - Train Accuracy: 0.7564, Validation Accuracy: 0.7841, Loss: 0.3361\n",
      "Epoch   1 Batch  448/538 - Train Accuracy: 0.7576, Validation Accuracy: 0.7812, Loss: 0.2942\n",
      "Epoch   1 Batch  456/538 - Train Accuracy: 0.8346, Validation Accuracy: 0.7875, Loss: 0.2835\n",
      "Epoch   1 Batch  464/538 - Train Accuracy: 0.8023, Validation Accuracy: 0.7896, Loss: 0.3071\n",
      "Epoch   1 Batch  472/538 - Train Accuracy: 0.8121, Validation Accuracy: 0.7811, Loss: 0.2897\n",
      "Epoch   1 Batch  480/538 - Train Accuracy: 0.8002, Validation Accuracy: 0.7768, Loss: 0.2808\n",
      "Epoch   1 Batch  488/538 - Train Accuracy: 0.8203, Validation Accuracy: 0.7871, Loss: 0.2801\n",
      "Epoch   1 Batch  496/538 - Train Accuracy: 0.8090, Validation Accuracy: 0.8109, Loss: 0.2726\n",
      "Epoch   1 Batch  504/538 - Train Accuracy: 0.8357, Validation Accuracy: 0.8054, Loss: 0.2718\n",
      "Epoch   1 Batch  512/538 - Train Accuracy: 0.8372, Validation Accuracy: 0.8058, Loss: 0.2605\n",
      "Epoch   1 Batch  520/538 - Train Accuracy: 0.8273, Validation Accuracy: 0.8116, Loss: 0.2758\n",
      "Epoch   1 Batch  528/538 - Train Accuracy: 0.8236, Validation Accuracy: 0.8168, Loss: 0.2810\n",
      "Epoch   1 Batch  536/538 - Train Accuracy: 0.8147, Validation Accuracy: 0.8230, Loss: 0.2693\n",
      "Epoch   2 Batch    8/538 - Train Accuracy: 0.8395, Validation Accuracy: 0.8139, Loss: 0.2591\n",
      "Epoch   2 Batch   16/538 - Train Accuracy: 0.8335, Validation Accuracy: 0.8274, Loss: 0.2397\n",
      "Epoch   2 Batch   24/538 - Train Accuracy: 0.8633, Validation Accuracy: 0.8253, Loss: 0.2358\n",
      "Epoch   2 Batch   32/538 - Train Accuracy: 0.8438, Validation Accuracy: 0.8411, Loss: 0.2147\n",
      "Epoch   2 Batch   40/538 - Train Accuracy: 0.8565, Validation Accuracy: 0.8185, Loss: 0.2039\n",
      "Epoch   2 Batch   48/538 - Train Accuracy: 0.8464, Validation Accuracy: 0.8567, Loss: 0.2193\n",
      "Epoch   2 Batch   56/538 - Train Accuracy: 0.8391, Validation Accuracy: 0.8427, Loss: 0.2107\n",
      "Epoch   2 Batch   64/538 - Train Accuracy: 0.8465, Validation Accuracy: 0.8516, Loss: 0.2083\n",
      "Epoch   2 Batch   72/538 - Train Accuracy: 0.8605, Validation Accuracy: 0.8548, Loss: 0.2257\n",
      "Epoch   2 Batch   80/538 - Train Accuracy: 0.8531, Validation Accuracy: 0.8592, Loss: 0.2197\n",
      "Epoch   2 Batch   88/538 - Train Accuracy: 0.8621, Validation Accuracy: 0.8626, Loss: 0.2027\n",
      "Epoch   2 Batch   96/538 - Train Accuracy: 0.8901, Validation Accuracy: 0.8736, Loss: 0.1924\n",
      "Epoch   2 Batch  104/538 - Train Accuracy: 0.8581, Validation Accuracy: 0.8722, Loss: 0.1882\n",
      "Epoch   2 Batch  112/538 - Train Accuracy: 0.8814, Validation Accuracy: 0.8675, Loss: 0.1952\n",
      "Epoch   2 Batch  120/538 - Train Accuracy: 0.8832, Validation Accuracy: 0.8741, Loss: 0.1744\n",
      "Epoch   2 Batch  128/538 - Train Accuracy: 0.8627, Validation Accuracy: 0.8697, Loss: 0.1776\n",
      "Epoch   2 Batch  136/538 - Train Accuracy: 0.8823, Validation Accuracy: 0.8746, Loss: 0.1708\n",
      "Epoch   2 Batch  144/538 - Train Accuracy: 0.8750, Validation Accuracy: 0.8794, Loss: 0.1921\n",
      "Epoch   2 Batch  152/538 - Train Accuracy: 0.8897, Validation Accuracy: 0.8732, Loss: 0.1678\n",
      "Epoch   2 Batch  160/538 - Train Accuracy: 0.8787, Validation Accuracy: 0.8734, Loss: 0.1600\n",
      "Epoch   2 Batch  168/538 - Train Accuracy: 0.8568, Validation Accuracy: 0.8633, Loss: 0.1827\n",
      "Epoch   2 Batch  176/538 - Train Accuracy: 0.8477, Validation Accuracy: 0.8800, Loss: 0.1767\n",
      "Epoch   2 Batch  184/538 - Train Accuracy: 0.8823, Validation Accuracy: 0.8699, Loss: 0.1518\n",
      "Epoch   2 Batch  192/538 - Train Accuracy: 0.8808, Validation Accuracy: 0.8762, Loss: 0.1486\n",
      "Epoch   2 Batch  200/538 - Train Accuracy: 0.8762, Validation Accuracy: 0.8817, Loss: 0.1470\n",
      "Epoch   2 Batch  208/538 - Train Accuracy: 0.8967, Validation Accuracy: 0.8754, Loss: 0.1672\n",
      "Epoch   2 Batch  216/538 - Train Accuracy: 0.9037, Validation Accuracy: 0.8796, Loss: 0.1511\n",
      "Epoch   2 Batch  224/538 - Train Accuracy: 0.8699, Validation Accuracy: 0.8564, Loss: 0.1561\n",
      "Epoch   2 Batch  232/538 - Train Accuracy: 0.8945, Validation Accuracy: 0.8867, Loss: 0.1520\n",
      "Epoch   2 Batch  240/538 - Train Accuracy: 0.8900, Validation Accuracy: 0.8917, Loss: 0.1517\n",
      "Epoch   2 Batch  248/538 - Train Accuracy: 0.8936, Validation Accuracy: 0.8837, Loss: 0.1365\n",
      "Epoch   2 Batch  256/538 - Train Accuracy: 0.8572, Validation Accuracy: 0.8896, Loss: 0.1463\n",
      "Epoch   2 Batch  264/538 - Train Accuracy: 0.8746, Validation Accuracy: 0.8704, Loss: 0.1412\n",
      "Epoch   2 Batch  272/538 - Train Accuracy: 0.8793, Validation Accuracy: 0.8890, Loss: 0.1480\n",
      "Epoch   2 Batch  280/538 - Train Accuracy: 0.9124, Validation Accuracy: 0.9062, Loss: 0.1235\n",
      "Epoch   2 Batch  288/538 - Train Accuracy: 0.8967, Validation Accuracy: 0.8912, Loss: 0.1288\n",
      "Epoch   2 Batch  296/538 - Train Accuracy: 0.8904, Validation Accuracy: 0.8853, Loss: 0.1295\n",
      "Epoch   2 Batch  304/538 - Train Accuracy: 0.8945, Validation Accuracy: 0.9025, Loss: 0.1240\n",
      "Epoch   2 Batch  312/538 - Train Accuracy: 0.9080, Validation Accuracy: 0.8963, Loss: 0.1127\n",
      "Epoch   2 Batch  320/538 - Train Accuracy: 0.8973, Validation Accuracy: 0.9034, Loss: 0.1127\n",
      "Epoch   2 Batch  328/538 - Train Accuracy: 0.9150, Validation Accuracy: 0.9018, Loss: 0.1138\n",
      "Epoch   2 Batch  336/538 - Train Accuracy: 0.9107, Validation Accuracy: 0.8936, Loss: 0.1108\n",
      "Epoch   2 Batch  344/538 - Train Accuracy: 0.9199, Validation Accuracy: 0.8890, Loss: 0.1048\n",
      "Epoch   2 Batch  352/538 - Train Accuracy: 0.8830, Validation Accuracy: 0.9015, Loss: 0.1293\n"
     ]
    },
    {
     "name": "stdout",
     "output_type": "stream",
     "text": [
      "Epoch   2 Batch  360/538 - Train Accuracy: 0.9037, Validation Accuracy: 0.8833, Loss: 0.1108\n",
      "Epoch   2 Batch  368/538 - Train Accuracy: 0.9067, Validation Accuracy: 0.8972, Loss: 0.0957\n",
      "Epoch   2 Batch  376/538 - Train Accuracy: 0.9000, Validation Accuracy: 0.8920, Loss: 0.1107\n",
      "Epoch   2 Batch  384/538 - Train Accuracy: 0.8914, Validation Accuracy: 0.9066, Loss: 0.1029\n",
      "Epoch   2 Batch  392/538 - Train Accuracy: 0.8899, Validation Accuracy: 0.8983, Loss: 0.1018\n",
      "Epoch   2 Batch  400/538 - Train Accuracy: 0.9111, Validation Accuracy: 0.9052, Loss: 0.1053\n",
      "Epoch   2 Batch  408/538 - Train Accuracy: 0.9096, Validation Accuracy: 0.9007, Loss: 0.1127\n",
      "Epoch   2 Batch  416/538 - Train Accuracy: 0.9054, Validation Accuracy: 0.9139, Loss: 0.1007\n",
      "Epoch   2 Batch  424/538 - Train Accuracy: 0.8983, Validation Accuracy: 0.9134, Loss: 0.1004\n",
      "Epoch   2 Batch  432/538 - Train Accuracy: 0.9242, Validation Accuracy: 0.8981, Loss: 0.0975\n",
      "Epoch   2 Batch  440/538 - Train Accuracy: 0.8861, Validation Accuracy: 0.8975, Loss: 0.1098\n",
      "Epoch   2 Batch  448/538 - Train Accuracy: 0.9074, Validation Accuracy: 0.9022, Loss: 0.0818\n",
      "Epoch   2 Batch  456/538 - Train Accuracy: 0.9276, Validation Accuracy: 0.9050, Loss: 0.1011\n",
      "Epoch   2 Batch  464/538 - Train Accuracy: 0.8965, Validation Accuracy: 0.9066, Loss: 0.0911\n",
      "Epoch   2 Batch  472/538 - Train Accuracy: 0.9408, Validation Accuracy: 0.9031, Loss: 0.0828\n",
      "Epoch   2 Batch  480/538 - Train Accuracy: 0.9159, Validation Accuracy: 0.9078, Loss: 0.0855\n",
      "Epoch   2 Batch  488/538 - Train Accuracy: 0.9242, Validation Accuracy: 0.8990, Loss: 0.0834\n",
      "Epoch   2 Batch  496/538 - Train Accuracy: 0.9334, Validation Accuracy: 0.9000, Loss: 0.0837\n",
      "Epoch   2 Batch  504/538 - Train Accuracy: 0.9408, Validation Accuracy: 0.9057, Loss: 0.0766\n",
      "Epoch   2 Batch  512/538 - Train Accuracy: 0.9135, Validation Accuracy: 0.9190, Loss: 0.0878\n",
      "Epoch   2 Batch  520/538 - Train Accuracy: 0.9018, Validation Accuracy: 0.8979, Loss: 0.0836\n",
      "Epoch   2 Batch  528/538 - Train Accuracy: 0.9056, Validation Accuracy: 0.9094, Loss: 0.0955\n",
      "Epoch   2 Batch  536/538 - Train Accuracy: 0.9180, Validation Accuracy: 0.9038, Loss: 0.0958\n",
      "Model Trained and Saved\n"
     ]
    }
   ],
   "source": [
    "\"\"\"\n",
    "DON'T MODIFY ANYTHING IN THIS CELL\n",
    "\"\"\"\n",
    "def get_accuracy(target, logits):\n",
    "    \"\"\"\n",
    "    Calculate accuracy\n",
    "    \"\"\"\n",
    "    max_seq = max(target.shape[1], logits.shape[1])\n",
    "    if max_seq - target.shape[1]:\n",
    "        target = np.pad(\n",
    "            target,\n",
    "            [(0,0),(0,max_seq - target.shape[1])],\n",
    "            'constant')\n",
    "    if max_seq - logits.shape[1]:\n",
    "        logits = np.pad(\n",
    "            logits,\n",
    "            [(0,0),(0,max_seq - logits.shape[1])],\n",
    "            'constant')\n",
    "\n",
    "    return np.mean(np.equal(target, logits))\n",
    "\n",
    "# Split data to training and validation sets\n",
    "train_source = source_int_text[batch_size:]\n",
    "train_target = target_int_text[batch_size:]\n",
    "valid_source = source_int_text[:batch_size]\n",
    "valid_target = target_int_text[:batch_size]\n",
    "(valid_sources_batch, valid_targets_batch, valid_sources_lengths, valid_targets_lengths ) = next(get_batches(valid_source,\n",
    "                                                                                                             valid_target,\n",
    "                                                                                                             batch_size,\n",
    "                                                                                                             source_vocab_to_int['<PAD>'],\n",
    "                                                                                                             target_vocab_to_int['<PAD>']))                                                                                                  \n",
    "with tf.Session(graph=train_graph) as sess:\n",
    "    sess.run(tf.global_variables_initializer())\n",
    "\n",
    "    for epoch_i in range(epochs):\n",
    "        for batch_i, (source_batch, target_batch, sources_lengths, targets_lengths) in enumerate(\n",
    "                get_batches(train_source, train_target, batch_size,\n",
    "                            source_vocab_to_int['<PAD>'],\n",
    "                            target_vocab_to_int['<PAD>'])):\n",
    "\n",
    "            _, loss = sess.run(\n",
    "                [train_op, cost],\n",
    "                {input_data: source_batch,\n",
    "                 targets: target_batch,\n",
    "                 lr: learning_rate,\n",
    "                 target_sequence_length: targets_lengths,\n",
    "                 source_sequence_length: sources_lengths,\n",
    "                 keep_prob: keep_probability})\n",
    "\n",
    "\n",
    "            if batch_i % display_step == 0 and batch_i > 0:\n",
    "\n",
    "\n",
    "                batch_train_logits = sess.run(\n",
    "                    inference_logits,\n",
    "                    {input_data: source_batch,\n",
    "                     source_sequence_length: sources_lengths,\n",
    "                     target_sequence_length: targets_lengths,\n",
    "                     keep_prob: 1.0})\n",
    "\n",
    "\n",
    "                batch_valid_logits = sess.run(\n",
    "                    inference_logits,\n",
    "                    {input_data: valid_sources_batch,\n",
    "                     source_sequence_length: valid_sources_lengths,\n",
    "                     target_sequence_length: valid_targets_lengths,\n",
    "                     keep_prob: 1.0})\n",
    "\n",
    "                train_acc = get_accuracy(target_batch, batch_train_logits)\n",
    "\n",
    "                valid_acc = get_accuracy(valid_targets_batch, batch_valid_logits)\n",
    "\n",
    "                print('Epoch {:>3} Batch {:>4}/{} - Train Accuracy: {:>6.4f}, Validation Accuracy: {:>6.4f}, Loss: {:>6.4f}'\n",
    "                      .format(epoch_i, batch_i, len(source_int_text) // batch_size, train_acc, valid_acc, loss))\n",
    "\n",
    "    # Save Model\n",
    "    saver = tf.train.Saver()\n",
    "    saver.save(sess, save_path)\n",
    "    print('Model Trained and Saved')"
   ]
  },
  {
   "cell_type": "markdown",
   "metadata": {},
   "source": [
    "### Save Parameters\n",
    "Save the `batch_size` and `save_path` parameters for inference."
   ]
  },
  {
   "cell_type": "code",
   "execution_count": 52,
   "metadata": {
    "collapsed": true
   },
   "outputs": [],
   "source": [
    "\"\"\"\n",
    "DON'T MODIFY ANYTHING IN THIS CELL\n",
    "\"\"\"\n",
    "# Save parameters for checkpoint\n",
    "helper.save_params(save_path)"
   ]
  },
  {
   "cell_type": "markdown",
   "metadata": {},
   "source": [
    "# Checkpoint"
   ]
  },
  {
   "cell_type": "code",
   "execution_count": 53,
   "metadata": {
    "collapsed": true
   },
   "outputs": [],
   "source": [
    "\"\"\"\n",
    "DON'T MODIFY ANYTHING IN THIS CELL\n",
    "\"\"\"\n",
    "import tensorflow as tf\n",
    "import numpy as np\n",
    "import helper\n",
    "import problem_unittests as tests\n",
    "\n",
    "_, (source_vocab_to_int, target_vocab_to_int), (source_int_to_vocab, target_int_to_vocab) = helper.load_preprocess()\n",
    "load_path = helper.load_params()"
   ]
  },
  {
   "cell_type": "markdown",
   "metadata": {},
   "source": [
    "## Sentence to Sequence\n",
    "To feed a sentence into the model for translation, you first need to preprocess it.  Implement the function `sentence_to_seq()` to preprocess new sentences.\n",
    "\n",
    "- Convert the sentence to lowercase\n",
    "- Convert words into ids using `vocab_to_int`\n",
    " - Convert words not in the vocabulary, to the `<UNK>` word id."
   ]
  },
  {
   "cell_type": "code",
   "execution_count": 64,
   "metadata": {},
   "outputs": [
    {
     "name": "stdout",
     "output_type": "stream",
     "text": [
      "Tests Passed\n"
     ]
    }
   ],
   "source": [
    "def sentence_to_seq(sentence, vocab_to_int):\n",
    "    \"\"\"\n",
    "    Convert a sentence to a sequence of ids\n",
    "    :param sentence: String\n",
    "    :param vocab_to_int: Dictionary to go from the words to an id\n",
    "    :return: List of word ids\n",
    "    \"\"\"\n",
    "    ids = []\n",
    "    for word in sentence.split():\n",
    "        if word in vocab_to_int:\n",
    "            ids.append(vocab_to_int[word])\n",
    "        else:\n",
    "            ids.append(vocab_to_int['<UNK>'])\n",
    "\n",
    "    return ids\n",
    "\n",
    "\n",
    "\"\"\"\n",
    "DON'T MODIFY ANYTHING IN THIS CELL THAT IS BELOW THIS LINE\n",
    "\"\"\"\n",
    "tests.test_sentence_to_seq(sentence_to_seq)"
   ]
  },
  {
   "cell_type": "markdown",
   "metadata": {},
   "source": [
    "## Translate\n",
    "This will translate `translate_sentence` from English to French."
   ]
  },
  {
   "cell_type": "code",
   "execution_count": 65,
   "metadata": {},
   "outputs": [
    {
     "name": "stdout",
     "output_type": "stream",
     "text": [
      "INFO:tensorflow:Restoring parameters from checkpoints/dev\n",
      "Input\n",
      "  Word Ids:      [6, 42, 103, 224, 209, 216, 111]\n",
      "  English Words: ['he', 'saw', 'a', 'old', 'yellow', 'truck', '.']\n",
      "\n",
      "Prediction\n",
      "  Word Ids:      [39, 338, 35, 54, 302, 12, 245, 1]\n",
      "  French Words: il vu un gros camion vert . <EOS>\n"
     ]
    }
   ],
   "source": [
    "translate_sentence = 'he saw a old yellow truck .'\n",
    "\n",
    "\n",
    "\"\"\"\n",
    "DON'T MODIFY ANYTHING IN THIS CELL\n",
    "\"\"\"\n",
    "translate_sentence = sentence_to_seq(translate_sentence, source_vocab_to_int)\n",
    "\n",
    "loaded_graph = tf.Graph()\n",
    "with tf.Session(graph=loaded_graph) as sess:\n",
    "    # Load saved model\n",
    "    loader = tf.train.import_meta_graph(load_path + '.meta')\n",
    "    loader.restore(sess, load_path)\n",
    "\n",
    "    input_data = loaded_graph.get_tensor_by_name('input:0')\n",
    "    logits = loaded_graph.get_tensor_by_name('predictions:0')\n",
    "    target_sequence_length = loaded_graph.get_tensor_by_name('target_sequence_length:0')\n",
    "    source_sequence_length = loaded_graph.get_tensor_by_name('source_sequence_length:0')\n",
    "    keep_prob = loaded_graph.get_tensor_by_name('keep_prob:0')\n",
    "\n",
    "    translate_logits = sess.run(logits, {input_data: [translate_sentence]*batch_size,\n",
    "                                         target_sequence_length: [len(translate_sentence)*2]*batch_size,\n",
    "                                         source_sequence_length: [len(translate_sentence)]*batch_size,\n",
    "                                         keep_prob: 1.0})[0]\n",
    "\n",
    "print('Input')\n",
    "print('  Word Ids:      {}'.format([i for i in translate_sentence]))\n",
    "print('  English Words: {}'.format([source_int_to_vocab[i] for i in translate_sentence]))\n",
    "\n",
    "print('\\nPrediction')\n",
    "print('  Word Ids:      {}'.format([i for i in translate_logits]))\n",
    "print('  French Words: {}'.format(\" \".join([target_int_to_vocab[i] for i in translate_logits])))\n"
   ]
  },
  {
   "cell_type": "markdown",
   "metadata": {},
   "source": [
    "## Imperfect Translation\n",
    "You might notice that some sentences translate better than others.  Since the dataset you're using only has a vocabulary of 227 English words of the thousands that you use, you're only going to see good results using these words.  For this project, you don't need a perfect translation. However, if you want to create a better translation model, you'll need better data.\n",
    "\n",
    "You can train on the [WMT10 French-English corpus](http://www.statmt.org/wmt10/training-giga-fren.tar).  This dataset has more vocabulary and richer in topics discussed.  However, this will take you days to train, so make sure you've a GPU and the neural network is performing well on dataset we provided.  Just make sure you play with the WMT10 corpus after you've submitted this project.\n",
    "## Submitting This Project\n",
    "When submitting this project, make sure to run all the cells before saving the notebook. Save the notebook file as \"dlnd_language_translation.ipynb\" and save it as a HTML file under \"File\" -> \"Download as\". Include the \"helper.py\" and \"problem_unittests.py\" files in your submission."
   ]
  },
  {
   "cell_type": "code",
   "execution_count": null,
   "metadata": {
    "collapsed": true
   },
   "outputs": [],
   "source": []
  }
 ],
 "metadata": {
  "anaconda-cloud": {},
  "kernelspec": {
   "display_name": "Python 3",
   "language": "python",
   "name": "python3"
  },
  "language_info": {
   "codemirror_mode": {
    "name": "ipython",
    "version": 3
   },
   "file_extension": ".py",
   "mimetype": "text/x-python",
   "name": "python",
   "nbconvert_exporter": "python",
   "pygments_lexer": "ipython3",
   "version": "3.5.3"
  }
 },
 "nbformat": 4,
 "nbformat_minor": 1
}
